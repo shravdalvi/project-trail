{
  "nbformat": 4,
  "nbformat_minor": 0,
  "metadata": {
    "colab": {
      "provenance": [],
      "authorship_tag": "ABX9TyMvtqeIzptoYOh2p2cshNPR",
      "include_colab_link": true
    },
    "kernelspec": {
      "name": "python3",
      "display_name": "Python 3"
    },
    "language_info": {
      "name": "python"
    }
  },
  "cells": [
    {
      "cell_type": "markdown",
      "metadata": {
        "id": "view-in-github",
        "colab_type": "text"
      },
      "source": [
        "<a href=\"https://colab.research.google.com/github/shravdalvi/project-trail/blob/main/Project_4.ipynb\" target=\"_parent\"><img src=\"https://colab.research.google.com/assets/colab-badge.svg\" alt=\"Open In Colab\"/></a>"
      ]
    },
    {
      "cell_type": "code",
      "execution_count": 2,
      "metadata": {
        "colab": {
          "base_uri": "https://localhost:8080/"
        },
        "id": "VPffBB-14QP2",
        "outputId": "80db6562-832d-462f-b567-010a3e2b540f"
      },
      "outputs": [
        {
          "output_type": "stream",
          "name": "stdout",
          "text": [
            "Welcome to 'Guess the Number'!\n",
            "I'm thinking of a number between 1 and 100.\n",
            "Take a guess: 2\n",
            "Too low! Try again.\n",
            "Take a guess: 82\n",
            "Too low! Try again.\n",
            "Take a guess: 99\\\n",
            "Please enter a valid number.\n",
            "Take a guess: 99\n",
            "Too high! Try again.\n",
            "Take a guess: 90\\\n",
            "Please enter a valid number.\n",
            "Take a guess: 90\n",
            "Congratulations! You guessed the number in 4 attempts.\n"
          ]
        }
      ],
      "source": [
        "import random\n",
        "\n",
        "def guess_the_number():\n",
        "    # Define the range for the number\n",
        "    lower_bound = 1\n",
        "    upper_bound = 100\n",
        "\n",
        "    # Generate a random number between lower_bound and upper_bound\n",
        "    number_to_guess = random.randint(lower_bound, upper_bound)\n",
        "\n",
        "    # Initialize the number of attempts\n",
        "    attempts = 0\n",
        "\n",
        "    print(f\"Welcome to 'Guess the Number'!\")\n",
        "    print(f\"I'm thinking of a number between {lower_bound} and {upper_bound}.\")\n",
        "\n",
        "    while True:\n",
        "        try:\n",
        "            # Get the player's guess\n",
        "            guess = int(input(\"Take a guess: \"))\n",
        "            attempts += 1\n",
        "\n",
        "            # Check if the guess is correct\n",
        "            if guess < number_to_guess:\n",
        "                print(\"Too low! Try again.\")\n",
        "            elif guess > number_to_guess:\n",
        "                print(\"Too high! Try again.\")\n",
        "            else:\n",
        "                # The guess is correct\n",
        "                print(f\"Congratulations! You guessed the number in {attempts} attempts.\")\n",
        "                break\n",
        "        except ValueError:\n",
        "            # Handle invalid input\n",
        "            print(\"Please enter a valid number.\")\n",
        "\n",
        "if __name__ == \"__main__\":\n",
        "    guess_the_number()"
      ]
    }
  ]
}