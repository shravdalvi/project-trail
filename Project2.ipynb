{
  "nbformat": 4,
  "nbformat_minor": 0,
  "metadata": {
    "colab": {
      "provenance": [],
      "authorship_tag": "ABX9TyOijiKQDJi2gCP+3rLPcX6V",
      "include_colab_link": true
    },
    "kernelspec": {
      "name": "python3",
      "display_name": "Python 3"
    },
    "language_info": {
      "name": "python"
    }
  },
  "cells": [
    {
      "cell_type": "markdown",
      "metadata": {
        "id": "view-in-github",
        "colab_type": "text"
      },
      "source": [
        "<a href=\"https://colab.research.google.com/github/shravdalvi/project-trail/blob/main/Project2.ipynb\" target=\"_parent\"><img src=\"https://colab.research.google.com/assets/colab-badge.svg\" alt=\"Open In Colab\"/></a>"
      ]
    },
    {
      "cell_type": "code",
      "execution_count": 2,
      "metadata": {
        "id": "Mw0uFepNz-5J",
        "colab": {
          "base_uri": "https://localhost:8080/"
        },
        "outputId": "82aa1add-7377-4619-d136-19d19d629dea"
      },
      "outputs": [
        {
          "output_type": "stream",
          "name": "stdout",
          "text": [
            "Welcome to Snake, Water, Gun!\n",
            "Choose 'snake', 'water', or 'gun': snake\n",
            "Computer chose: gun\n",
            "You win!\n"
          ]
        }
      ],
      "source": [
        "import random\n",
        "\n",
        "def get_computer_choice():\n",
        "    choices = ['snake', 'water', 'gun']\n",
        "    return random.choice(choices)\n",
        "\n",
        "def determine_winner(user_choice, computer_choice):\n",
        "    if user_choice == computer_choice:\n",
        "        return \"It's a tie!\"\n",
        "\n",
        "    # Define the winning conditions\n",
        "    win_conditions = {\n",
        "        'snake': 'gun',\n",
        "        'gun': 'water',\n",
        "        'water': 'snake'\n",
        "    }\n",
        "\n",
        "    if win_conditions[user_choice] == computer_choice:\n",
        "        return \"You win!\"\n",
        "    else:\n",
        "        return \"You lose!\"\n",
        "\n",
        "def play_game():\n",
        "    print(\"Welcome to Snake, Water, Gun!\")\n",
        "\n",
        "    user_choice = input(\"Choose 'snake', 'water', or 'gun': \").lower()\n",
        "    if user_choice not in ['snake', 'water', 'gun']:\n",
        "        print(\"Invalid choice! Please select 'snake', 'water', or 'gun'.\")\n",
        "        return\n",
        "\n",
        "    computer_choice = get_computer_choice()\n",
        "    print(f\"Computer chose: {computer_choice}\")\n",
        "\n",
        "    result = determine_winner(user_choice, computer_choice)\n",
        "    print(result)\n",
        "\n",
        "# Play the game\n",
        "if __name__ == \"__main__\":\n",
        "    play_game()"
      ]
    }
  ]
}