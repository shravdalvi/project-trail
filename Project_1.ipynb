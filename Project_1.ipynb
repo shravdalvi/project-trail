{
  "nbformat": 4,
  "nbformat_minor": 0,
  "metadata": {
    "colab": {
      "provenance": [],
      "authorship_tag": "ABX9TyO/Hte7xYuRxiu5aWvijhqU",
      "include_colab_link": true
    },
    "kernelspec": {
      "name": "python3",
      "display_name": "Python 3"
    },
    "language_info": {
      "name": "python"
    }
  },
  "cells": [
    {
      "cell_type": "markdown",
      "metadata": {
        "id": "view-in-github",
        "colab_type": "text"
      },
      "source": [
        "<a href=\"https://colab.research.google.com/github/shravdalvi/project-trail/blob/main/Project_1.ipynb\" target=\"_parent\"><img src=\"https://colab.research.google.com/assets/colab-badge.svg\" alt=\"Open In Colab\"/></a>"
      ]
    },
    {
      "cell_type": "code",
      "execution_count": null,
      "metadata": {
        "colab": {
          "base_uri": "https://localhost:8080/"
        },
        "id": "ljVycz1b1vjm",
        "outputId": "bf6799c0-a06c-4919-edb8-1186e0023597"
      },
      "outputs": [
        {
          "output_type": "stream",
          "name": "stdout",
          "text": [
            "2\n"
          ]
        }
      ],
      "source": [
        "import random\n",
        "\n",
        "randno = random.randint(1,2)\n",
        "print(randno)\n",
        "\n",
        "\n"
      ]
    },
    {
      "cell_type": "code",
      "source": [
        "import random\n",
        "# Snake Water or Gun game\n",
        "def game(player1, player2):\n",
        "\n",
        "   if player1 == player2\n",
        "        return None\n",
        "    elif player1 == 's':\n",
        "      if player2 == \"w\":\n",
        "            return False\n",
        "        elif player2 == 'g'\n",
        "             return True\n",
        "      elif player1 == 'w':\n",
        "        if player2 == 'g':\n",
        "          return False\n",
        "        elif player2 == 's':\n",
        "          return True\n",
        " elif player1 == 'g':\n",
        "        if player2 == 's':\n",
        "          return False\n",
        "        elif player2 == 'w':\n",
        "          return True\n",
        "\n",
        "print(\"player1 : Snake(s) Water(w) or Gun(g)?\")\n",
        "randno = random.randint(1,3)\n",
        "print(randno)\n",
        "if randno == 1:\n",
        "     player1 = 's'\n",
        "elif randno == 2:\n",
        "     player1 = 'w'\n",
        "elif randno == 3:\n",
        "     player1 = 'g'\n",
        "b = input(\"player2 : Snake(s) Water(w) or Gun(g)?\" )\n",
        "a = game(player1, player2)\n",
        "print(f\"player1 chose {player1}\")\n",
        "print(f\"player2 chose {player2}\")\n",
        "\n",
        "if a == None:\n",
        "  print(\"The game is a tie!\")\n",
        "elif a:\n",
        "  print(\"You Win!\")\n",
        "else:\n",
        "  print(\"You Lose!\")\n",
        "  game()\n",
        "\n",
        "\n"
      ],
      "metadata": {
        "colab": {
          "base_uri": "https://localhost:8080/",
          "height": 106
        },
        "id": "nSNrKB0a3VVO",
        "outputId": "378a1c93-02b2-4e8b-ee67-4eb28d3e4fac"
      },
      "execution_count": null,
      "outputs": [
        {
          "output_type": "error",
          "ename": "IndentationError",
          "evalue": "unindent does not match any outer indentation level (<tokenize>, line 7)",
          "traceback": [
            "\u001b[0;36m  File \u001b[0;32m\"<tokenize>\"\u001b[0;36m, line \u001b[0;32m7\u001b[0m\n\u001b[0;31m    elif player1 == 's':\u001b[0m\n\u001b[0m    ^\u001b[0m\n\u001b[0;31mIndentationError\u001b[0m\u001b[0;31m:\u001b[0m unindent does not match any outer indentation level\n"
          ]
        }
      ]
    },
    {
      "cell_type": "markdown",
      "source": [],
      "metadata": {
        "id": "o6OCT0RWCXb7"
      }
    },
    {
      "cell_type": "code",
      "source": [
        "marks1 = [95, 92, 77, 83]\n",
        "percentage1 = (sum(marks1)/400)*100\n",
        "\n",
        "marks2 = [97, 98, 99, 100]\n",
        "percentage2 = (sum(marks2)/400)*100\n",
        "\n",
        "print(percentage1, percentage2)"
      ],
      "metadata": {
        "colab": {
          "base_uri": "https://localhost:8080/"
        },
        "id": "yCfcDsH4KHiy",
        "outputId": "e9fc9b2f-17f5-4d13-f841-8c9099ce54d4"
      },
      "execution_count": null,
      "outputs": [
        {
          "output_type": "stream",
          "name": "stdout",
          "text": [
            "86.75 98.5\n"
          ]
        }
      ]
    },
    {
      "cell_type": "code",
      "source": [
        "fruits = [\"apple\", \"banana\", \"cherry\"]\n",
        "for x in fruits:\n",
        " print(x)\n",
        "\n"
      ],
      "metadata": {
        "id": "8czM0EO9MU1z",
        "colab": {
          "base_uri": "https://localhost:8080/"
        },
        "outputId": "f95224c9-f729-41ae-cd96-ebdf198c7714"
      },
      "execution_count": null,
      "outputs": [
        {
          "output_type": "stream",
          "name": "stdout",
          "text": [
            "apple\n",
            "banana\n",
            "cherry\n"
          ]
        }
      ]
    },
    {
      "cell_type": "code",
      "source": [
        "fruits = [\"(apple)\" \"(banana)\" \"(cherry)\"]\n",
        "for x in fruits:\n",
        "  print(x)"
      ],
      "metadata": {
        "colab": {
          "base_uri": "https://localhost:8080/"
        },
        "id": "uK6ZaUvcD1Yk",
        "outputId": "1714cbf6-1683-4af8-8110-4ec3e8193830"
      },
      "execution_count": null,
      "outputs": [
        {
          "output_type": "stream",
          "name": "stdout",
          "text": [
            "(apple)(banana)(cherry)\n"
          ]
        }
      ]
    },
    {
      "cell_type": "code",
      "source": [],
      "metadata": {
        "id": "Mq1zNT6Nwvcv"
      },
      "execution_count": null,
      "outputs": []
    }
  ]
}